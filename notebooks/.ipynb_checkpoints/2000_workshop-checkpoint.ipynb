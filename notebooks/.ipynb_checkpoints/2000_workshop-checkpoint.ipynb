{
 "cells": [
  {
   "cell_type": "code",
   "execution_count": 1,
   "metadata": {},
   "outputs": [],
   "source": [
    "import pandas as pd\n",
    "import numpy as np\n",
    "import matplotlib.pyplot as plt\n",
    "%matplotlib inline"
   ]
  },
  {
   "cell_type": "code",
   "execution_count": 2,
   "metadata": {},
   "outputs": [],
   "source": [
    "reports_2000 = pd.read_csv(\"../data/neiss2000.csv\", encoding='latin-1')\n",
    "terms_2000 = pd.read_csv(\"../data/neiss2000fmt.csv\", encoding='latin-1')"
   ]
  },
  {
   "cell_type": "code",
   "execution_count": 3,
   "metadata": {},
   "outputs": [],
   "source": [
    "reports_2000 = reports_2000[['CPSC_Case_Number','Treatment_Date','Age','Sex','Location','Fire_Involvement','Product_1','Product_2']]"
   ]
  },
  {
   "cell_type": "markdown",
   "metadata": {},
   "source": [
    "##### Create csvs to merge"
   ]
  },
  {
   "cell_type": "code",
   "execution_count": 4,
   "metadata": {},
   "outputs": [],
   "source": [
    "# csv_age = terms_2000[terms_2000['Format name'] == 'AGELTTWO']\n",
    "# csv_alc = terms_2000[terms_2000['Format name'] == 'ALC_DRUG']\n",
    "# csv_body = terms_2000[terms_2000['Format name'] == 'BDYPT']\n",
    "# csv_fire = terms_2000[terms_2000['Format name'] == 'FIRE']\n",
    "# csv_gend = terms_2000[terms_2000['Format name'] == 'GENDER']\n",
    "# csv_loc = terms_2000[terms_2000['Format name'] == 'LOC']\n",
    "# csv_prod = terms_2000[terms_2000['Format name'] == 'PROD']\n",
    "\n",
    "# csv_age.to_csv('../data/2000age.csv', index=False, sep=',')\n",
    "# csv_body.to_csv('../data/2000body.csv', index=False, sep=',')\n",
    "# csv_fire.to_csv('../data/2000fire.csv', index=False, sep=',')\n",
    "# csv_gend.to_csv('../data/2000gend.csv', index=False, sep=',')\n",
    "# csv_loc.to_csv('../data/2000loc.csv', index=False, sep=',')\n",
    "# csv_prod.to_csv('../data/2000prod.csv', index=False, sep=',')"
   ]
  },
  {
   "cell_type": "code",
   "execution_count": 5,
   "metadata": {},
   "outputs": [],
   "source": [
    "prod_2000 = pd.read_csv(\"../data/2000prod.csv\")\n",
    "loc_2000 = pd.read_csv(\"../data/2000loc.csv\")\n",
    "gend_2000 = pd.read_csv(\"../data/2000gend.csv\")\n",
    "fire_2000 = pd.read_csv(\"../data/2000fire.csv\")\n",
    "body_2000 = pd.read_csv(\"../data/2000body.csv\")\n",
    "age_2000 = pd.read_csv(\"../data/2000age.csv\", skiprows=2)"
   ]
  },
  {
   "cell_type": "code",
   "execution_count": 6,
   "metadata": {},
   "outputs": [],
   "source": [
    "reports_2000 = pd.merge(reports_2000,prod_2000, left_on='Product_1', right_on='Starting value for format', how='left')"
   ]
  },
  {
   "cell_type": "code",
   "execution_count": 7,
   "metadata": {},
   "outputs": [],
   "source": [
    "reports_2000 = reports_2000[['CPSC_Case_Number','Treatment_Date','Age','Sex','Location','Fire_Involvement','Product_1','Product_2', 'Format value label']]"
   ]
  },
  {
   "cell_type": "code",
   "execution_count": 8,
   "metadata": {},
   "outputs": [],
   "source": [
    "reports_2000 = pd.merge(reports_2000,prod_2000, left_on='Product_2', right_on='Starting value for format', how='left')"
   ]
  },
  {
   "cell_type": "code",
   "execution_count": 10,
   "metadata": {},
   "outputs": [],
   "source": [
    "reports_2000 = reports_2000[['CPSC_Case_Number','Treatment_Date','Age','Sex','Location','Fire_Involvement', 'Format value label_x', 'Format value label_y']]"
   ]
  },
  {
   "cell_type": "code",
   "execution_count": 11,
   "metadata": {},
   "outputs": [],
   "source": [
    "reports_2000.columns = ['case', 'date', 'age', 'sex', 'location', 'fire_inv', 'prod_1', 'prod_2']"
   ]
  },
  {
   "cell_type": "code",
   "execution_count": 12,
   "metadata": {},
   "outputs": [],
   "source": [
    "reports_2000 = pd.merge(reports_2000,loc_2000, left_on='location', right_on='Starting value for format', how='left')"
   ]
  },
  {
   "cell_type": "code",
   "execution_count": 13,
   "metadata": {},
   "outputs": [],
   "source": [
    "reports_2000 = reports_2000[['case','date','age','sex','Format value label','fire_inv','prod_1','prod_2']]\n",
    "reports_2000.columns = ['case', 'date', 'age', 'sex', 'location', 'fire_inv', 'prod_1', 'prod_2']"
   ]
  },
  {
   "cell_type": "code",
   "execution_count": 14,
   "metadata": {},
   "outputs": [],
   "source": [
    "reports_2000 = pd.merge(reports_2000,gend_2000, left_on='sex', right_on='Starting value for format', how='left')"
   ]
  },
  {
   "cell_type": "code",
   "execution_count": 15,
   "metadata": {},
   "outputs": [],
   "source": [
    "reports_2000 = reports_2000[['case','date','age','Format value label','location','fire_inv','prod_1','prod_2']]\n",
    "reports_2000.columns = ['case', 'date', 'age', 'sex', 'location', 'fire_inv', 'prod_1', 'prod_2']"
   ]
  },
  {
   "cell_type": "code",
   "execution_count": 16,
   "metadata": {},
   "outputs": [],
   "source": [
    "reports_2000 = pd.merge(reports_2000,fire_2000, left_on='fire_inv', right_on='Starting value for format', how='left')"
   ]
  },
  {
   "cell_type": "code",
   "execution_count": 17,
   "metadata": {},
   "outputs": [],
   "source": [
    "reports_2000 = reports_2000[['case','date','age','sex','location','Format value label','prod_1','prod_2']]\n",
    "reports_2000.columns = ['case', 'date', 'age', 'sex', 'location', 'fire_inv', 'prod_1', 'prod_2']"
   ]
  },
  {
   "cell_type": "code",
   "execution_count": 18,
   "metadata": {},
   "outputs": [],
   "source": [
    "reports_2000['age'] = np.where(reports_2000['age'].between(201,211), 0, reports_2000['age'])\n",
    "reports_2000['age'] = np.where(reports_2000['age'].between(212,223), 1, reports_2000['age'])"
   ]
  },
  {
   "cell_type": "code",
   "execution_count": 19,
   "metadata": {},
   "outputs": [
    {
     "data": {
      "text/html": [
       "<div>\n",
       "<style scoped>\n",
       "    .dataframe tbody tr th:only-of-type {\n",
       "        vertical-align: middle;\n",
       "    }\n",
       "\n",
       "    .dataframe tbody tr th {\n",
       "        vertical-align: top;\n",
       "    }\n",
       "\n",
       "    .dataframe thead th {\n",
       "        text-align: right;\n",
       "    }\n",
       "</style>\n",
       "<table border=\"1\" class=\"dataframe\">\n",
       "  <thead>\n",
       "    <tr style=\"text-align: right;\">\n",
       "      <th></th>\n",
       "      <th>case</th>\n",
       "      <th>date</th>\n",
       "      <th>age</th>\n",
       "      <th>sex</th>\n",
       "      <th>location</th>\n",
       "      <th>fire_inv</th>\n",
       "      <th>prod_1</th>\n",
       "      <th>prod_2</th>\n",
       "    </tr>\n",
       "  </thead>\n",
       "  <tbody>\n",
       "    <tr>\n",
       "      <td>0</td>\n",
       "      <td>101654</td>\n",
       "      <td>1/1/2000</td>\n",
       "      <td>65</td>\n",
       "      <td>MALE</td>\n",
       "      <td>HOME</td>\n",
       "      <td>NO/?</td>\n",
       "      <td>1403 - OTHER UNPOWERED GARDEN TOOLS</td>\n",
       "      <td>NaN</td>\n",
       "    </tr>\n",
       "    <tr>\n",
       "      <td>1</td>\n",
       "      <td>101655</td>\n",
       "      <td>1/1/2000</td>\n",
       "      <td>48</td>\n",
       "      <td>FEMALE</td>\n",
       "      <td>HOME</td>\n",
       "      <td>NO/?</td>\n",
       "      <td>694 - BEDS, NOT SPECIFIED</td>\n",
       "      <td>4057 - TABLES (EXCL.  BABY CHANGING TABLES, BI...</td>\n",
       "    </tr>\n",
       "    <tr>\n",
       "      <td>2</td>\n",
       "      <td>101656</td>\n",
       "      <td>1/1/2000</td>\n",
       "      <td>11</td>\n",
       "      <td>MALE</td>\n",
       "      <td>HOME</td>\n",
       "      <td>NO/?</td>\n",
       "      <td>1237 - GAS, AIR OR SPRING-OPERATED GUNS</td>\n",
       "      <td>NaN</td>\n",
       "    </tr>\n",
       "    <tr>\n",
       "      <td>3</td>\n",
       "      <td>101657</td>\n",
       "      <td>1/2/2000</td>\n",
       "      <td>17</td>\n",
       "      <td>MALE</td>\n",
       "      <td>SCHOOL</td>\n",
       "      <td>NO/?</td>\n",
       "      <td>1270 - WRESTLING (ACTIVITY, APPAREL OR EQUIPMENT)</td>\n",
       "      <td>NaN</td>\n",
       "    </tr>\n",
       "    <tr>\n",
       "      <td>4</td>\n",
       "      <td>101678</td>\n",
       "      <td>1/1/2000</td>\n",
       "      <td>42</td>\n",
       "      <td>MALE</td>\n",
       "      <td>UNK</td>\n",
       "      <td>NO/?</td>\n",
       "      <td>611 - BATHTUBS OR SHOWERS</td>\n",
       "      <td>NaN</td>\n",
       "    </tr>\n",
       "    <tr>\n",
       "      <td>...</td>\n",
       "      <td>...</td>\n",
       "      <td>...</td>\n",
       "      <td>...</td>\n",
       "      <td>...</td>\n",
       "      <td>...</td>\n",
       "      <td>...</td>\n",
       "      <td>...</td>\n",
       "      <td>...</td>\n",
       "    </tr>\n",
       "    <tr>\n",
       "      <td>339239</td>\n",
       "      <td>10500300</td>\n",
       "      <td>11/12/2000</td>\n",
       "      <td>30</td>\n",
       "      <td>MALE</td>\n",
       "      <td>HOME</td>\n",
       "      <td>NO/?</td>\n",
       "      <td>1842 - STAIRS OR STEPS</td>\n",
       "      <td>NaN</td>\n",
       "    </tr>\n",
       "    <tr>\n",
       "      <td>339240</td>\n",
       "      <td>10500306</td>\n",
       "      <td>11/14/2000</td>\n",
       "      <td>75</td>\n",
       "      <td>MALE</td>\n",
       "      <td>STREET</td>\n",
       "      <td>NO/?</td>\n",
       "      <td>5040 - BICYCLES AND ACCESSORIES, (EXCL.MOUNTAI...</td>\n",
       "      <td>NaN</td>\n",
       "    </tr>\n",
       "    <tr>\n",
       "      <td>339241</td>\n",
       "      <td>10500320</td>\n",
       "      <td>11/10/2000</td>\n",
       "      <td>46</td>\n",
       "      <td>FEMALE</td>\n",
       "      <td>HOME</td>\n",
       "      <td>NO/?</td>\n",
       "      <td>1807 - FLOORS OR FLOORING MATERIALS</td>\n",
       "      <td>NaN</td>\n",
       "    </tr>\n",
       "    <tr>\n",
       "      <td>339242</td>\n",
       "      <td>10500329</td>\n",
       "      <td>11/27/2000</td>\n",
       "      <td>1</td>\n",
       "      <td>FEMALE</td>\n",
       "      <td>HOME</td>\n",
       "      <td>NO/?</td>\n",
       "      <td>4056 - CABINETS, RACKS, ROOM DIVIDERS AND SHEL...</td>\n",
       "      <td>NaN</td>\n",
       "    </tr>\n",
       "    <tr>\n",
       "      <td>339243</td>\n",
       "      <td>10520637</td>\n",
       "      <td>3/28/2000</td>\n",
       "      <td>25</td>\n",
       "      <td>MALE</td>\n",
       "      <td>UNK</td>\n",
       "      <td>NO/?</td>\n",
       "      <td>1849 - DOORS, NOT SPECIFIED</td>\n",
       "      <td>NaN</td>\n",
       "    </tr>\n",
       "  </tbody>\n",
       "</table>\n",
       "<p>339244 rows × 8 columns</p>\n",
       "</div>"
      ],
      "text/plain": [
       "            case        date  age     sex location fire_inv  \\\n",
       "0         101654    1/1/2000   65    MALE     HOME     NO/?   \n",
       "1         101655    1/1/2000   48  FEMALE     HOME     NO/?   \n",
       "2         101656    1/1/2000   11    MALE     HOME     NO/?   \n",
       "3         101657    1/2/2000   17    MALE   SCHOOL     NO/?   \n",
       "4         101678    1/1/2000   42    MALE      UNK     NO/?   \n",
       "...          ...         ...  ...     ...      ...      ...   \n",
       "339239  10500300  11/12/2000   30    MALE     HOME     NO/?   \n",
       "339240  10500306  11/14/2000   75    MALE   STREET     NO/?   \n",
       "339241  10500320  11/10/2000   46  FEMALE     HOME     NO/?   \n",
       "339242  10500329  11/27/2000    1  FEMALE     HOME     NO/?   \n",
       "339243  10520637   3/28/2000   25    MALE      UNK     NO/?   \n",
       "\n",
       "                                                   prod_1  \\\n",
       "0                     1403 - OTHER UNPOWERED GARDEN TOOLS   \n",
       "1                               694 - BEDS, NOT SPECIFIED   \n",
       "2                 1237 - GAS, AIR OR SPRING-OPERATED GUNS   \n",
       "3       1270 - WRESTLING (ACTIVITY, APPAREL OR EQUIPMENT)   \n",
       "4                               611 - BATHTUBS OR SHOWERS   \n",
       "...                                                   ...   \n",
       "339239                             1842 - STAIRS OR STEPS   \n",
       "339240  5040 - BICYCLES AND ACCESSORIES, (EXCL.MOUNTAI...   \n",
       "339241                1807 - FLOORS OR FLOORING MATERIALS   \n",
       "339242  4056 - CABINETS, RACKS, ROOM DIVIDERS AND SHEL...   \n",
       "339243                        1849 - DOORS, NOT SPECIFIED   \n",
       "\n",
       "                                                   prod_2  \n",
       "0                                                     NaN  \n",
       "1       4057 - TABLES (EXCL.  BABY CHANGING TABLES, BI...  \n",
       "2                                                     NaN  \n",
       "3                                                     NaN  \n",
       "4                                                     NaN  \n",
       "...                                                   ...  \n",
       "339239                                                NaN  \n",
       "339240                                                NaN  \n",
       "339241                                                NaN  \n",
       "339242                                                NaN  \n",
       "339243                                                NaN  \n",
       "\n",
       "[339244 rows x 8 columns]"
      ]
     },
     "execution_count": 19,
     "metadata": {},
     "output_type": "execute_result"
    }
   ],
   "source": [
    "reports_2000"
   ]
  },
  {
   "cell_type": "code",
   "execution_count": 20,
   "metadata": {},
   "outputs": [],
   "source": [
    "reports_2000.to_csv('../data/neiss2000readable.csv', index=False, sep=',')"
   ]
  }
 ],
 "metadata": {
  "kernelspec": {
   "display_name": "Python 3",
   "language": "python",
   "name": "python3"
  },
  "language_info": {
   "codemirror_mode": {
    "name": "ipython",
    "version": 3
   },
   "file_extension": ".py",
   "mimetype": "text/x-python",
   "name": "python",
   "nbconvert_exporter": "python",
   "pygments_lexer": "ipython3",
   "version": "3.7.4"
  }
 },
 "nbformat": 4,
 "nbformat_minor": 2
}
