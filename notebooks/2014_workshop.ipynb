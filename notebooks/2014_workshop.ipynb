{
 "cells": [
  {
   "cell_type": "code",
   "execution_count": 1,
   "metadata": {},
   "outputs": [],
   "source": [
    "import pandas as pd\n",
    "import numpy as np\n",
    "import matplotlib.pyplot as plt\n",
    "%matplotlib inline"
   ]
  },
  {
   "cell_type": "code",
   "execution_count": 2,
   "metadata": {},
   "outputs": [],
   "source": [
    "reports_2014 = pd.read_csv(\"../data/neiss2014.csv\")\n",
    "terms_2014 = pd.read_csv(\"../data/neiss2014fmt.csv\")"
   ]
  },
  {
   "cell_type": "code",
   "execution_count": 3,
   "metadata": {},
   "outputs": [],
   "source": [
    "reports_2014 = reports_2014[['CPSC_Case_Number','Treatment_Date','Age','Sex','Location','Fire_Involvement','Product_1','Product_2','Product_3','Alcohol involved','Drug involved','Narrative']]"
   ]
  },
  {
   "cell_type": "markdown",
   "metadata": {},
   "source": [
    "##### Create csvs to merge"
   ]
  },
  {
   "cell_type": "code",
   "execution_count": 4,
   "metadata": {},
   "outputs": [],
   "source": [
    "csv_age = terms_2014[terms_2014['Format name'] == 'AGELTTWO']\n",
    "csv_body = terms_2014[terms_2014['Format name'] == 'BDYPT']\n",
    "csv_fire = terms_2014[terms_2014['Format name'] == 'FIRE']\n",
    "csv_gend = terms_2014[terms_2014['Format name'] == 'GENDER']\n",
    "csv_loc = terms_2014[terms_2014['Format name'] == 'LOC']\n",
    "csv_prod = terms_2014[terms_2014['Format name'] == 'PROD']\n",
    "\n",
    "csv_age.to_csv('../data/age.csv', index=False, sep=',')\n",
    "csv_body.to_csv('../data/body.csv', index=False, sep=',')\n",
    "csv_fire.to_csv('../data/fire.csv', index=False, sep=',')\n",
    "csv_gend.to_csv('../data/gend.csv', index=False, sep=',')\n",
    "csv_loc.to_csv('../data/loc.csv', index=False, sep=',')\n",
    "csv_prod.to_csv('../data/prod.csv', index=False, sep=',')"
   ]
  },
  {
   "cell_type": "code",
   "execution_count": 5,
   "metadata": {},
   "outputs": [],
   "source": [
    "prod_2014 = pd.read_csv(\"../data/prod.csv\")\n",
    "loc_2014 = pd.read_csv(\"../data/loc.csv\")\n",
    "gend_2014 = pd.read_csv(\"../data/gend.csv\")\n",
    "fire_2014 = pd.read_csv(\"../data/fire.csv\")\n",
    "body_2014 = pd.read_csv(\"../data/body.csv\")\n",
    "age_2014 = pd.read_csv(\"../data/age.csv\", skiprows=2)"
   ]
  },
  {
   "cell_type": "code",
   "execution_count": 6,
   "metadata": {},
   "outputs": [],
   "source": [
    "reports_2014 = pd.merge(reports_2014,prod_2014, left_on='Product_1', right_on='Starting value for format', how='left')"
   ]
  },
  {
   "cell_type": "code",
   "execution_count": 7,
   "metadata": {},
   "outputs": [],
   "source": [
    "reports_2014 = reports_2014[['CPSC_Case_Number','Treatment_Date','Age','Sex','Location','Fire_Involvement','Product_1','Product_2','Product_3','Alcohol involved','Drug involved', 'Narrative', 'Format value label']]"
   ]
  },
  {
   "cell_type": "code",
   "execution_count": 8,
   "metadata": {},
   "outputs": [],
   "source": [
    "reports_2014 = pd.merge(reports_2014,prod_2014, left_on='Product_2', right_on='Starting value for format', how='left')\n",
    "reports_2014 = pd.merge(reports_2014,prod_2014, left_on='Product_3', right_on='Starting value for format', how='left')"
   ]
  },
  {
   "cell_type": "code",
   "execution_count": 9,
   "metadata": {},
   "outputs": [],
   "source": [
    "reports_2014 = reports_2014[['CPSC_Case_Number','Treatment_Date','Age','Sex','Location','Fire_Involvement','Alcohol involved','Drug involved', 'Narrative', 'Format value label_x', 'Format value label_y', 'Format value label']]"
   ]
  },
  {
   "cell_type": "code",
   "execution_count": 10,
   "metadata": {},
   "outputs": [],
   "source": [
    "reports_2014.columns = ['case', 'date', 'age', 'sex', 'location', 'fire_inv', 'alc_inv', 'drug_inv', 'Narrative', 'prod_1', 'prod_2', 'prod_3']"
   ]
  },
  {
   "cell_type": "code",
   "execution_count": 11,
   "metadata": {},
   "outputs": [],
   "source": [
    "reports_2014 = pd.merge(reports_2014,loc_2014, left_on='location', right_on='Starting value for format', how='left')"
   ]
  },
  {
   "cell_type": "code",
   "execution_count": 12,
   "metadata": {},
   "outputs": [],
   "source": [
    "reports_2014 = reports_2014[['case','date','age','sex','Format value label','fire_inv','alc_inv','drug_inv', 'Narrative', 'prod_1','prod_2','prod_3']]\n",
    "reports_2014.columns = ['case', 'date', 'age', 'sex', 'location', 'fire_inv', 'alc_inv', 'drug_inv', 'Narrative', 'prod_1', 'prod_2', 'prod_3']"
   ]
  },
  {
   "cell_type": "code",
   "execution_count": 13,
   "metadata": {},
   "outputs": [],
   "source": [
    "reports_2014 = pd.merge(reports_2014,gend_2014, left_on='sex', right_on='Starting value for format', how='left')"
   ]
  },
  {
   "cell_type": "code",
   "execution_count": 14,
   "metadata": {},
   "outputs": [],
   "source": [
    "reports_2014 = reports_2014[['case','date','age','Format value label','location','fire_inv','alc_inv','drug_inv','Narrative','prod_1','prod_2','prod_3']]\n",
    "reports_2014.columns = ['case', 'date', 'age', 'sex', 'location', 'fire_inv', 'alc_inv', 'drug_inv', 'Narrative', 'prod_1', 'prod_2', 'prod_3']"
   ]
  },
  {
   "cell_type": "code",
   "execution_count": 15,
   "metadata": {},
   "outputs": [],
   "source": [
    "reports_2014 = pd.merge(reports_2014,fire_2014, left_on='fire_inv', right_on='Starting value for format', how='left')"
   ]
  },
  {
   "cell_type": "code",
   "execution_count": 16,
   "metadata": {},
   "outputs": [],
   "source": [
    "reports_2014 = reports_2014[['case','date','age','sex','location','Format value label','alc_inv','drug_inv', 'Narrative', 'prod_1','prod_2','prod_3']]\n",
    "reports_2014.columns = ['case', 'date', 'age', 'sex', 'location', 'fire_inv', 'alc_inv', 'drug_inv', 'Narrative', 'prod_1', 'prod_2', 'prod_3']"
   ]
  },
  {
   "cell_type": "code",
   "execution_count": 17,
   "metadata": {},
   "outputs": [],
   "source": [
    "# reports_2014 = pd.merge(reports_2014,alc_2014, left_on='alc_inv', right_on='.', how='left')"
   ]
  },
  {
   "cell_type": "code",
   "execution_count": 18,
   "metadata": {},
   "outputs": [],
   "source": [
    "# reports_2014 = reports_2014[['case','date','age','sex','location','fire_inv','NA before 2014','drug_inv', 'Narrative', 'prod_1','prod_2','prod_3']]\n",
    "# reports_2014.columns = ['case', 'date', 'age', 'sex', 'location', 'fire_inv', 'alc_inv', 'drug_inv', 'Narrative', 'prod_1', 'prod_2', 'prod_3']"
   ]
  },
  {
   "cell_type": "code",
   "execution_count": 19,
   "metadata": {},
   "outputs": [],
   "source": [
    "# reports_2014 = pd.merge(reports_2014,alc_2014, left_on='drug_inv', right_on='.', how='left')"
   ]
  },
  {
   "cell_type": "code",
   "execution_count": 20,
   "metadata": {},
   "outputs": [],
   "source": [
    "# reports_2014 = reports_2014[['case','date','age','sex','location','fire_inv','alc_inv','NA before 2014', 'Narrative', 'prod_1','prod_2','prod_3']]\n",
    "# reports_2014.columns = ['case', 'date', 'age', 'sex', 'location', 'fire_inv', 'alc_inv', 'drug_inv', 'Narrative', 'prod_1', 'prod_2', 'prod_3']"
   ]
  },
  {
   "cell_type": "code",
   "execution_count": 21,
   "metadata": {},
   "outputs": [],
   "source": [
    "reports_2014['age'] = np.where(reports_2014['age'].between(201,211), 0, reports_2014['age'])\n",
    "reports_2014['age'] = np.where(reports_2014['age'].between(212,223), 1, reports_2014['age'])"
   ]
  },
  {
   "cell_type": "code",
   "execution_count": 22,
   "metadata": {},
   "outputs": [],
   "source": [
    "reports_2014.to_csv('../data/neiss2014readable.csv', index=False, sep=',')"
   ]
  }
 ],
 "metadata": {
  "kernelspec": {
   "display_name": "Python 3",
   "language": "python",
   "name": "python3"
  },
  "language_info": {
   "codemirror_mode": {
    "name": "ipython",
    "version": 3
   },
   "file_extension": ".py",
   "mimetype": "text/x-python",
   "name": "python",
   "nbconvert_exporter": "python",
   "pygments_lexer": "ipython3",
   "version": "3.7.4"
  }
 },
 "nbformat": 4,
 "nbformat_minor": 2
}
