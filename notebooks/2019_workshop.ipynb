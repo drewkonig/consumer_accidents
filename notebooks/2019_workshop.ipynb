{
 "cells": [
  {
   "cell_type": "code",
   "execution_count": 1,
   "metadata": {},
   "outputs": [],
   "source": [
    "import pandas as pd\n",
    "import numpy as np\n",
    "import matplotlib.pyplot as plt\n",
    "%matplotlib inline"
   ]
  },
  {
   "cell_type": "code",
   "execution_count": 2,
   "metadata": {},
   "outputs": [],
   "source": [
    "reports_2019 = pd.read_csv(\"../data/neiss2019.csv\")\n",
    "terms_2019 = pd.read_csv(\"../data/neiss2019fmt.csv\")"
   ]
  },
  {
   "cell_type": "code",
   "execution_count": 3,
   "metadata": {},
   "outputs": [],
   "source": [
    "reports_2019 = reports_2019[['CPSC_Case_Number','Treatment_Date','Age','Sex','Location','Fire_Involvement','Product_1','Product_2','Product_3','Alcohol involved','Drug involved']]"
   ]
  },
  {
   "cell_type": "markdown",
   "metadata": {},
   "source": [
    "##### Create csvs to merge"
   ]
  },
  {
   "cell_type": "code",
   "execution_count": 4,
   "metadata": {},
   "outputs": [],
   "source": [
    "# csv_age = terms_2019[terms_2019['Format name'] == 'AGELTTWO']\n",
    "# csv_alc = terms_2019[terms_2019['Format name'] == 'ALC_DRUG']\n",
    "# csv_body = terms_2019[terms_2019['Format name'] == 'BDYPT']\n",
    "# csv_fire = terms_2019[terms_2019['Format name'] == 'FIRE']\n",
    "# csv_gend = terms_2019[terms_2019['Format name'] == 'GENDER']\n",
    "# csv_loc = terms_2019[terms_2019['Format name'] == 'LOC']\n",
    "# csv_prod = terms_2019[terms_2019['Format name'] == 'PROD']\n",
    "\n",
    "# csv_age.to_csv('../data/age.csv', index=False, sep=',')\n",
    "# csv_alc.to_csv('../data/alc.csv', index=False, sep=',')\n",
    "# csv_body.to_csv('../data/body.csv', index=False, sep=',')\n",
    "# csv_fire.to_csv('../data/fire.csv', index=False, sep=',')\n",
    "# csv_gend.to_csv('../data/gend.csv', index=False, sep=',')\n",
    "# csv_loc.to_csv('../data/loc.csv', index=False, sep=',')\n",
    "# csv_prod.to_csv('../data/prod.csv', index=False, sep=',')"
   ]
  },
  {
   "cell_type": "code",
   "execution_count": 5,
   "metadata": {},
   "outputs": [],
   "source": [
    "prod_2019 = pd.read_csv(\"../data/prod.csv\")\n",
    "loc_2019 = pd.read_csv(\"../data/loc.csv\")\n",
    "gend_2019 = pd.read_csv(\"../data/gend.csv\")\n",
    "fire_2019 = pd.read_csv(\"../data/fire.csv\")\n",
    "body_2019 = pd.read_csv(\"../data/body.csv\")\n",
    "alc_2019 = pd.read_csv(\"../data/alc.csv\", skiprows=1)\n",
    "age_2019 = pd.read_csv(\"../data/age.csv\", skiprows=2)"
   ]
  },
  {
   "cell_type": "code",
   "execution_count": 6,
   "metadata": {},
   "outputs": [],
   "source": [
    "reports_2019 = pd.merge(reports_2019,prod_2019, left_on='Product_1', right_on='Starting value for format', how='left')"
   ]
  },
  {
   "cell_type": "code",
   "execution_count": 7,
   "metadata": {},
   "outputs": [],
   "source": [
    "reports_2019 = reports_2019[['CPSC_Case_Number','Treatment_Date','Age','Sex','Location','Fire_Involvement','Product_1','Product_2','Product_3','Alcohol involved','Drug involved', 'Format value label']]"
   ]
  },
  {
   "cell_type": "code",
   "execution_count": 8,
   "metadata": {},
   "outputs": [],
   "source": [
    "reports_2019 = pd.merge(reports_2019,prod_2019, left_on='Product_2', right_on='Starting value for format', how='left')\n",
    "reports_2019 = pd.merge(reports_2019,prod_2019, left_on='Product_3', right_on='Starting value for format', how='left')"
   ]
  },
  {
   "cell_type": "code",
   "execution_count": 9,
   "metadata": {},
   "outputs": [],
   "source": [
    "reports_2019 = reports_2019[['CPSC_Case_Number','Treatment_Date','Age','Sex','Location','Fire_Involvement','Alcohol involved','Drug involved', 'Format value label_x', 'Format value label_y', 'Format value label']]"
   ]
  },
  {
   "cell_type": "code",
   "execution_count": 10,
   "metadata": {},
   "outputs": [],
   "source": [
    "reports_2019.columns = ['case', 'date', 'age', 'sex', 'location', 'fire_inv', 'alc_inv', 'drug_inv', 'prod_1', 'prod_2', 'prod_3']"
   ]
  },
  {
   "cell_type": "code",
   "execution_count": 11,
   "metadata": {},
   "outputs": [],
   "source": [
    "reports_2019 = pd.merge(reports_2019,loc_2019, left_on='location', right_on='Starting value for format', how='left')"
   ]
  },
  {
   "cell_type": "code",
   "execution_count": 12,
   "metadata": {},
   "outputs": [],
   "source": [
    "reports_2019 = reports_2019[['case','date','age','sex','Format value label','fire_inv','alc_inv','drug_inv','prod_1','prod_2','prod_3']]\n",
    "reports_2019.columns = ['case', 'date', 'age', 'sex', 'location', 'fire_inv', 'alc_inv', 'drug_inv', 'prod_1', 'prod_2', 'prod_3']"
   ]
  },
  {
   "cell_type": "code",
   "execution_count": 13,
   "metadata": {},
   "outputs": [],
   "source": [
    "reports_2019 = pd.merge(reports_2019,gend_2019, left_on='sex', right_on='Starting value for format', how='left')"
   ]
  },
  {
   "cell_type": "code",
   "execution_count": 14,
   "metadata": {},
   "outputs": [],
   "source": [
    "reports_2019 = reports_2019[['case','date','age','Format value label','location','fire_inv','alc_inv','drug_inv','prod_1','prod_2','prod_3']]\n",
    "reports_2019.columns = ['case', 'date', 'age', 'sex', 'location', 'fire_inv', 'alc_inv', 'drug_inv', 'prod_1', 'prod_2', 'prod_3']"
   ]
  },
  {
   "cell_type": "code",
   "execution_count": 15,
   "metadata": {},
   "outputs": [],
   "source": [
    "reports_2019 = pd.merge(reports_2019,fire_2019, left_on='fire_inv', right_on='Starting value for format', how='left')"
   ]
  },
  {
   "cell_type": "code",
   "execution_count": 16,
   "metadata": {},
   "outputs": [],
   "source": [
    "reports_2019 = reports_2019[['case','date','age','sex','location','Format value label','alc_inv','drug_inv','prod_1','prod_2','prod_3']]\n",
    "reports_2019.columns = ['case', 'date', 'age', 'sex', 'location', 'fire_inv', 'alc_inv', 'drug_inv', 'prod_1', 'prod_2', 'prod_3']"
   ]
  },
  {
   "cell_type": "code",
   "execution_count": 17,
   "metadata": {},
   "outputs": [],
   "source": [
    "reports_2019 = pd.merge(reports_2019,alc_2019, left_on='alc_inv', right_on='.', how='left')"
   ]
  },
  {
   "cell_type": "code",
   "execution_count": 18,
   "metadata": {},
   "outputs": [],
   "source": [
    "reports_2019 = reports_2019[['case','date','age','sex','location','fire_inv','NA before 2019','drug_inv','prod_1','prod_2','prod_3']]\n",
    "reports_2019.columns = ['case', 'date', 'age', 'sex', 'location', 'fire_inv', 'alc_inv', 'drug_inv', 'prod_1', 'prod_2', 'prod_3']"
   ]
  },
  {
   "cell_type": "code",
   "execution_count": 19,
   "metadata": {},
   "outputs": [],
   "source": [
    "reports_2019 = pd.merge(reports_2019,alc_2019, left_on='drug_inv', right_on='.', how='left')"
   ]
  },
  {
   "cell_type": "code",
   "execution_count": 20,
   "metadata": {},
   "outputs": [],
   "source": [
    "reports_2019 = reports_2019[['case','date','age','sex','location','fire_inv','alc_inv','NA before 2019','prod_1','prod_2','prod_3']]\n",
    "reports_2019.columns = ['case', 'date', 'age', 'sex', 'location', 'fire_inv', 'alc_inv', 'drug_inv', 'prod_1', 'prod_2', 'prod_3']"
   ]
  },
  {
   "cell_type": "code",
   "execution_count": 23,
   "metadata": {},
   "outputs": [],
   "source": [
    "reports_2019['age'] = np.where(reports_2019['age'].between(201,211), 0, reports_2019['age'])\n",
    "reports_2019['age'] = np.where(reports_2019['age'].between(212,223), 1, reports_2019['age'])"
   ]
  },
  {
   "cell_type": "code",
   "execution_count": 27,
   "metadata": {},
   "outputs": [],
   "source": [
    "#reports_2019.to_csv('../data/neiss2019readable.csv', index=False, sep=',')"
   ]
  }
 ],
 "metadata": {
  "kernelspec": {
   "display_name": "Python 3",
   "language": "python",
   "name": "python3"
  },
  "language_info": {
   "codemirror_mode": {
    "name": "ipython",
    "version": 3
   },
   "file_extension": ".py",
   "mimetype": "text/x-python",
   "name": "python",
   "nbconvert_exporter": "python",
   "pygments_lexer": "ipython3",
   "version": "3.7.4"
  }
 },
 "nbformat": 4,
 "nbformat_minor": 2
}
